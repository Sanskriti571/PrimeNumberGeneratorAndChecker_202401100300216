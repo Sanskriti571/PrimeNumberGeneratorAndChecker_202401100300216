{
  "nbformat": 4,
  "nbformat_minor": 0,
  "metadata": {
    "colab": {
      "provenance": []
    },
    "kernelspec": {
      "name": "python3",
      "display_name": "Python 3"
    },
    "language_info": {
      "name": "python"
    }
  },
  "cells": [
    {
      "cell_type": "code",
      "source": [
        "def is_prime(n):\n",
        "    \"\"\"\n",
        "    Check if a number is prime.\n",
        "    :param n: Integer to check\n",
        "    :return: True if prime, False otherwise\n",
        "    \"\"\"\n",
        "    if n < 2:\n",
        "        return False\n",
        "    for i in range(2, int(n ** 0.5) + 1):  # Check divisibility up to sqrt(n)\n",
        "        if n % i == 0:\n",
        "            return False\n",
        "    return True\n",
        "\n",
        "\n",
        "def generate_primes(limit):\n",
        "    \"\"\"\n",
        "    Generate a list of prime numbers up to a given limit.\n",
        "    :param limit: Upper bound for prime numbers\n",
        "    :return: List of prime numbers\n",
        "    \"\"\"\n",
        "    primes = []\n",
        "    for num in range(2, limit + 1):\n",
        "        if is_prime(num):  # Use the is_prime function\n",
        "            primes.append(num)\n",
        "    return primes\n",
        "\n",
        "\n",
        "# Example usage\n",
        "if __name__ == \"__main__\":\n",
        "    num_to_check = int(input(\"Enter a number to check if it's prime or not?\"))\n",
        "    print(f\"Is {num_to_check} a prime number? {is_prime(num_to_check)}\")\n",
        "\n",
        "    limit = int(input(\"Enter limit \"))\n",
        "    print(f\"Prime numbers up to {limit}: {generate_primes(limit)}\")\n"
      ],
      "metadata": {
        "colab": {
          "base_uri": "https://localhost:8080/"
        },
        "id": "kCexXd00jt-T",
        "outputId": "e009430e-3b5e-436a-ea53-f7466146cf66"
      },
      "execution_count": 11,
      "outputs": [
        {
          "output_type": "stream",
          "name": "stdout",
          "text": [
            "Enter a number to check if it's prime or not?13\n",
            "Is 13 a prime number? True\n",
            "Enter limit 20\n",
            "Prime numbers up to 20: [2, 3, 5, 7, 11, 13, 17, 19]\n"
          ]
        }
      ]
    }
  ]
}